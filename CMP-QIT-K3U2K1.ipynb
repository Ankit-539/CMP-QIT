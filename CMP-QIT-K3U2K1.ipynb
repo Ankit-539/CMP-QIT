{
 "cells": [
  {
   "attachments": {},
   "cell_type": "markdown",
   "metadata": {},
   "source": [
    "Importing all the Libraries"
   ]
  },
  {
   "cell_type": "code",
   "execution_count": 9,
   "metadata": {},
   "outputs": [],
   "source": [
    "import sympy as sp\n",
    "import numpy as np\n",
    "import cdd\n",
    "from IPython.display import display\n",
    "import matplotlib.pyplot as plt\n",
    "from scipy.spatial import ConvexHull\n",
    "import networkx as nx"
   ]
  },
  {
   "attachments": {},
   "cell_type": "markdown",
   "metadata": {},
   "source": [
    "Plotting the $K_3 \\cup 2K_1$ Graph"
   ]
  },
  {
   "cell_type": "code",
   "execution_count": 10,
   "metadata": {},
   "outputs": [
    {
     "name": "stdout",
     "output_type": "stream",
     "text": [
      "(2, <networkx.classes.graph.Graph object at 0x7f86f721e3a0>)\n"
     ]
    },
    {
     "data": {
      "image/png": "[encoded data removed]",
      "text/plain": [
       "<Figure size 640x480 with 1 Axes>"
      ]
     },
     "metadata": {},
     "output_type": "display_data"
    }
   ],
   "source": [
    "G = nx.Graph()\n",
    "G.add_nodes_from([1, 2, 3, 4, 5])\n",
    "G.add_edges_from([[1, 2], [2, 4], [1, 3], [3, 5], [2, 3], [2, 5], [3, 4]])\n",
    "pos = nx.spring_layout(G, seed=225)\n",
    "print(nx.algorithms.approximation.treewidth_min_degree(G))\n",
    "nx.draw(G, pos)"
   ]
  },
  {
   "attachments": {},
   "cell_type": "markdown",
   "metadata": {},
   "source": [
    "Creating the Truth Table to extract V-Representation of Correlation Polytope"
   ]
  },
  {
   "cell_type": "code",
   "execution_count": 11,
   "metadata": {},
   "outputs": [
    {
     "data": {
      "text/plain": [
       "array([[0., 0., 0., 0., 0., 0., 0., 0., 0., 0., 0., 0.],\n",
       "       [0., 0., 0., 0., 1., 0., 0., 0., 0., 0., 0., 0.],\n",
       "       [0., 0., 0., 1., 0., 0., 0., 0., 0., 0., 0., 0.],\n",
       "       [0., 0., 0., 1., 1., 0., 0., 0., 0., 0., 0., 0.],\n",
       "       [0., 0., 1., 0., 0., 0., 0., 0., 0., 0., 0., 0.],\n",
       "       [0., 0., 1., 0., 1., 0., 0., 0., 1., 0., 0., 0.],\n",
       "       [0., 0., 1., 1., 0., 0., 0., 0., 0., 0., 0., 1.],\n",
       "       [0., 0., 1., 1., 1., 0., 0., 0., 1., 0., 0., 1.],\n",
       "       [0., 1., 0., 0., 0., 0., 0., 0., 0., 0., 0., 0.],\n",
       "       [0., 1., 0., 0., 1., 0., 0., 0., 0., 0., 1., 0.],\n",
       "       [0., 1., 0., 1., 0., 0., 1., 0., 0., 0., 0., 0.],\n",
       "       [0., 1., 0., 1., 1., 0., 1., 0., 0., 0., 1., 0.],\n",
       "       [0., 1., 1., 0., 0., 0., 0., 0., 0., 1., 0., 0.],\n",
       "       [0., 1., 1., 0., 1., 0., 0., 0., 1., 1., 1., 0.],\n",
       "       [0., 1., 1., 1., 0., 0., 1., 0., 0., 1., 0., 1.],\n",
       "       [0., 1., 1., 1., 1., 0., 1., 0., 1., 1., 1., 1.],\n",
       "       [1., 0., 0., 0., 0., 0., 0., 0., 0., 0., 0., 0.],\n",
       "       [1., 0., 0., 0., 1., 0., 0., 0., 0., 0., 0., 0.],\n",
       "       [1., 0., 0., 1., 0., 0., 0., 0., 0., 0., 0., 0.],\n",
       "       [1., 0., 0., 1., 1., 0., 0., 0., 0., 0., 0., 0.],\n",
       "       [1., 0., 1., 0., 0., 0., 0., 1., 0., 0., 0., 0.],\n",
       "       [1., 0., 1., 0., 1., 0., 0., 1., 1., 0., 0., 0.],\n",
       "       [1., 0., 1., 1., 0., 0., 0., 1., 0., 0., 0., 1.],\n",
       "       [1., 0., 1., 1., 1., 0., 0., 1., 1., 0., 0., 1.],\n",
       "       [1., 1., 0., 0., 0., 1., 0., 0., 0., 0., 0., 0.],\n",
       "       [1., 1., 0., 0., 1., 1., 0., 0., 0., 0., 1., 0.],\n",
       "       [1., 1., 0., 1., 0., 1., 1., 0., 0., 0., 0., 0.],\n",
       "       [1., 1., 0., 1., 1., 1., 1., 0., 0., 0., 1., 0.],\n",
       "       [1., 1., 1., 0., 0., 1., 0., 1., 0., 1., 0., 0.],\n",
       "       [1., 1., 1., 0., 1., 1., 0., 1., 1., 1., 1., 0.],\n",
       "       [1., 1., 1., 1., 0., 1., 1., 1., 0., 1., 0., 1.],\n",
       "       [1., 1., 1., 1., 1., 1., 1., 1., 1., 1., 1., 1.]])"
      ]
     },
     "execution_count": 11,
     "metadata": {},
     "output_type": "execute_result"
    }
   ],
   "source": [
    "t_nm = 5 #No. of Vertices for our graph\n",
    "\n",
    "cor = np.array([[1, 2], [2, 4], [1, 3], [3, 5], [2, 3], [2, 5], [3, 4]]) #list of edges for the graph\n",
    "\n",
    "def dec_to_bin(num): #converts decimal number to its binary (used for making the truth table)\n",
    "\n",
    "    s = ''\n",
    "    for i in range(t_nm):\n",
    "\n",
    "        s = str(num%2)+s\n",
    "        num = int(num/2)\n",
    "    \n",
    "    return s\n",
    "\n",
    "A = np.zeros([2**(t_nm), t_nm]) #stores the atomic parts of the truth table\n",
    "\n",
    "for i in range(2**t_nm):\n",
    "\n",
    "    bin = dec_to_bin(i)\n",
    "    for j in range(t_nm):\n",
    "\n",
    "        A[i][j] = bin[j]\n",
    "\n",
    "t_cor = len(cor) #No. of edges in the graph\n",
    "B = np.zeros([2**t_nm, t_cor]) #stores the conjugatiion parts of the truth table\n",
    "\n",
    "for j in range(2**t_nm):\n",
    "    for i, c in enumerate(cor):\n",
    "        B[j][i] = A[j][c[0]-1]*A[j][c[1]-1]\n",
    "\n",
    "F = np.concatenate((A, B), axis = 1) #stores the complete truth table\n",
    "F"
   ]
  },
  {
   "attachments": {},
   "cell_type": "markdown",
   "metadata": {},
   "source": [
    "Getting the H representation from the V-representation using cdd"
   ]
  },
  {
   "cell_type": "code",
   "execution_count": 12,
   "metadata": {},
   "outputs": [],
   "source": [
    "F = np.insert(F, 0, 1, axis = 1)\n",
    "\n",
    "mat = cdd.Matrix(F) #V-representation of correlation polytope\n",
    "mat.rep_type = cdd.RepType.GENERATOR\n",
    "\n",
    "poly = cdd.Polyhedron(mat)\n",
    "\n",
    "Ineq = np.array(poly.get_inequalities()) #Stores H-representation of the correlation polytope\n",
    "\n",
    "#Next we extract A and b such that the polytope can be written as S=(x|Ax≤b)\n",
    "b = Ineq[:, 0]\n",
    "A = -1*Ineq[:, 1:]"
   ]
  },
  {
   "attachments": {},
   "cell_type": "markdown",
   "metadata": {},
   "source": [
    "Printing out the H-representation"
   ]
  },
  {
   "cell_type": "code",
   "execution_count": 13,
   "metadata": {},
   "outputs": [
    {
     "data": {
      "text/latex": [
       "$\\displaystyle - 1.0 q_{25} \\leq 0.0$"
      ],
      "text/plain": [
       "-1.0*q25 <= 0.0"
      ]
     },
     "metadata": {},
     "output_type": "display_data"
    },
    {
     "data": {
      "text/latex": [
       "$\\displaystyle - 1.0 q_{35} \\leq 0.0$"
      ],
      "text/plain": [
       "-1.0*q35 <= 0.0"
      ]
     },
     "metadata": {},
     "output_type": "display_data"
    },
    {
     "data": {
      "text/latex": [
       "$\\displaystyle 1.0 p_{2} + 1.0 p_{3} + 1.0 p_{5} - 1.0 q_{23} - 1.0 q_{25} - 1.0 q_{35} \\leq 1.0$"
      ],
      "text/plain": [
       "1.0*p2 + 1.0*p3 + 1.0*p5 - 1.0*q23 - 1.0*q25 - 1.0*q35 <= 1.0"
      ]
     },
     "metadata": {},
     "output_type": "display_data"
    },
    {
     "data": {
      "text/latex": [
       "$\\displaystyle - 1.0 q_{12} \\leq 0.0$"
      ],
      "text/plain": [
       "-1.0*q12 <= 0.0"
      ]
     },
     "metadata": {},
     "output_type": "display_data"
    },
    {
     "data": {
      "text/latex": [
       "$\\displaystyle - 1.0 q_{13} \\leq 0.0$"
      ],
      "text/plain": [
       "-1.0*q13 <= 0.0"
      ]
     },
     "metadata": {},
     "output_type": "display_data"
    },
    {
     "data": {
      "text/latex": [
       "$\\displaystyle - 1.0 q_{23} \\leq 0.0$"
      ],
      "text/plain": [
       "-1.0*q23 <= 0.0"
      ]
     },
     "metadata": {},
     "output_type": "display_data"
    },
    {
     "data": {
      "text/latex": [
       "$\\displaystyle 1.0 p_{1} + 1.0 p_{2} + 1.0 p_{3} - 1.0 q_{12} - 1.0 q_{13} - 1.0 q_{23} \\leq 1.0$"
      ],
      "text/plain": [
       "1.0*p1 + 1.0*p2 + 1.0*p3 - 1.0*q12 - 1.0*q13 - 1.0*q23 <= 1.0"
      ]
     },
     "metadata": {},
     "output_type": "display_data"
    },
    {
     "data": {
      "text/latex": [
       "$\\displaystyle - 1.0 q_{24} \\leq 0.0$"
      ],
      "text/plain": [
       "-1.0*q24 <= 0.0"
      ]
     },
     "metadata": {},
     "output_type": "display_data"
    },
    {
     "data": {
      "text/latex": [
       "$\\displaystyle - 1.0 q_{34} \\leq 0.0$"
      ],
      "text/plain": [
       "-1.0*q34 <= 0.0"
      ]
     },
     "metadata": {},
     "output_type": "display_data"
    },
    {
     "data": {
      "text/latex": [
       "$\\displaystyle 1.0 p_{2} + 1.0 p_{3} + 1.0 p_{4} - 1.0 q_{23} - 1.0 q_{24} - 1.0 q_{34} \\leq 1.0$"
      ],
      "text/plain": [
       "1.0*p2 + 1.0*p3 + 1.0*p4 - 1.0*q23 - 1.0*q24 - 1.0*q34 <= 1.0"
      ]
     },
     "metadata": {},
     "output_type": "display_data"
    },
    {
     "data": {
      "text/latex": [
       "$\\displaystyle - 1.0 p_{2} + 1.0 q_{25} \\leq 0.0$"
      ],
      "text/plain": [
       "-1.0*p2 + 1.0*q25 <= 0.0"
      ]
     },
     "metadata": {},
     "output_type": "display_data"
    },
    {
     "data": {
      "text/latex": [
       "$\\displaystyle - 1.0 p_{3} + 1.0 q_{35} \\leq 0.0$"
      ],
      "text/plain": [
       "-1.0*p3 + 1.0*q35 <= 0.0"
      ]
     },
     "metadata": {},
     "output_type": "display_data"
    },
    {
     "data": {
      "text/latex": [
       "$\\displaystyle - 1.0 p_{5} - 1.0 q_{23} + 1.0 q_{25} + 1.0 q_{35} \\leq 0.0$"
      ],
      "text/plain": [
       "-1.0*p5 - 1.0*q23 + 1.0*q25 + 1.0*q35 <= 0.0"
      ]
     },
     "metadata": {},
     "output_type": "display_data"
    },
    {
     "data": {
      "text/latex": [
       "$\\displaystyle - 1.0 p_{2} + 1.0 q_{24} \\leq 0.0$"
      ],
      "text/plain": [
       "-1.0*p2 + 1.0*q24 <= 0.0"
      ]
     },
     "metadata": {},
     "output_type": "display_data"
    },
    {
     "data": {
      "text/latex": [
       "$\\displaystyle - 1.0 p_{3} + 1.0 q_{34} \\leq 0.0$"
      ],
      "text/plain": [
       "-1.0*p3 + 1.0*q34 <= 0.0"
      ]
     },
     "metadata": {},
     "output_type": "display_data"
    },
    {
     "data": {
      "text/latex": [
       "$\\displaystyle - 1.0 p_{4} - 1.0 q_{23} + 1.0 q_{24} + 1.0 q_{34} \\leq 0.0$"
      ],
      "text/plain": [
       "-1.0*p4 - 1.0*q23 + 1.0*q24 + 1.0*q34 <= 0.0"
      ]
     },
     "metadata": {},
     "output_type": "display_data"
    },
    {
     "data": {
      "text/latex": [
       "$\\displaystyle - 1.0 p_{1} + 1.0 q_{13} \\leq 0.0$"
      ],
      "text/plain": [
       "-1.0*p1 + 1.0*q13 <= 0.0"
      ]
     },
     "metadata": {},
     "output_type": "display_data"
    },
    {
     "data": {
      "text/latex": [
       "$\\displaystyle - 1.0 p_{2} + 1.0 q_{23} \\leq 0.0$"
      ],
      "text/plain": [
       "-1.0*p2 + 1.0*q23 <= 0.0"
      ]
     },
     "metadata": {},
     "output_type": "display_data"
    },
    {
     "data": {
      "text/latex": [
       "$\\displaystyle - 1.0 p_{3} - 1.0 q_{12} + 1.0 q_{13} + 1.0 q_{23} \\leq 0.0$"
      ],
      "text/plain": [
       "-1.0*p3 - 1.0*q12 + 1.0*q13 + 1.0*q23 <= 0.0"
      ]
     },
     "metadata": {},
     "output_type": "display_data"
    },
    {
     "data": {
      "text/latex": [
       "$\\displaystyle - 1.0 p_{1} + 1.0 q_{12} \\leq 0.0$"
      ],
      "text/plain": [
       "-1.0*p1 + 1.0*q12 <= 0.0"
      ]
     },
     "metadata": {},
     "output_type": "display_data"
    },
    {
     "data": {
      "text/latex": [
       "$\\displaystyle - 1.0 p_{1} + 1.0 q_{12} + 1.0 q_{13} - 1.0 q_{23} \\leq 0.0$"
      ],
      "text/plain": [
       "-1.0*p1 + 1.0*q12 + 1.0*q13 - 1.0*q23 <= 0.0"
      ]
     },
     "metadata": {},
     "output_type": "display_data"
    },
    {
     "data": {
      "text/latex": [
       "$\\displaystyle 1.0 p_{2} + 1.0 p_{3} - 1.0 q_{23} \\leq 1.0$"
      ],
      "text/plain": [
       "1.0*p2 + 1.0*p3 - 1.0*q23 <= 1.0"
      ]
     },
     "metadata": {},
     "output_type": "display_data"
    },
    {
     "data": {
      "text/latex": [
       "$\\displaystyle - 1.0 p_{2} + 1.0 q_{12} - 1.0 q_{13} + 1.0 q_{23} \\leq 0.0$"
      ],
      "text/plain": [
       "-1.0*p2 + 1.0*q12 - 1.0*q13 + 1.0*q23 <= 0.0"
      ]
     },
     "metadata": {},
     "output_type": "display_data"
    },
    {
     "data": {
      "text/latex": [
       "$\\displaystyle - 1.0 p_{2} + 1.0 q_{12} \\leq 0.0$"
      ],
      "text/plain": [
       "-1.0*p2 + 1.0*q12 <= 0.0"
      ]
     },
     "metadata": {},
     "output_type": "display_data"
    },
    {
     "data": {
      "text/latex": [
       "$\\displaystyle 1.0 p_{1} + 1.0 p_{3} - 1.0 q_{13} \\leq 1.0$"
      ],
      "text/plain": [
       "1.0*p1 + 1.0*p3 - 1.0*q13 <= 1.0"
      ]
     },
     "metadata": {},
     "output_type": "display_data"
    },
    {
     "data": {
      "text/latex": [
       "$\\displaystyle - 1.0 p_{3} + 1.0 q_{23} \\leq 0.0$"
      ],
      "text/plain": [
       "-1.0*p3 + 1.0*q23 <= 0.0"
      ]
     },
     "metadata": {},
     "output_type": "display_data"
    },
    {
     "data": {
      "text/latex": [
       "$\\displaystyle - 1.0 p_{3} + 1.0 q_{13} \\leq 0.0$"
      ],
      "text/plain": [
       "-1.0*p3 + 1.0*q13 <= 0.0"
      ]
     },
     "metadata": {},
     "output_type": "display_data"
    },
    {
     "data": {
      "text/latex": [
       "$\\displaystyle 1.0 p_{1} + 1.0 p_{2} - 1.0 q_{12} \\leq 1.0$"
      ],
      "text/plain": [
       "1.0*p1 + 1.0*p2 - 1.0*q12 <= 1.0"
      ]
     },
     "metadata": {},
     "output_type": "display_data"
    },
    {
     "data": {
      "text/latex": [
       "$\\displaystyle - 1.0 p_{3} + 1.0 q_{23} - 1.0 q_{25} + 1.0 q_{35} \\leq 0.0$"
      ],
      "text/plain": [
       "-1.0*p3 + 1.0*q23 - 1.0*q25 + 1.0*q35 <= 0.0"
      ]
     },
     "metadata": {},
     "output_type": "display_data"
    },
    {
     "data": {
      "text/latex": [
       "$\\displaystyle - 1.0 p_{5} + 1.0 q_{35} \\leq 0.0$"
      ],
      "text/plain": [
       "-1.0*p5 + 1.0*q35 <= 0.0"
      ]
     },
     "metadata": {},
     "output_type": "display_data"
    },
    {
     "data": {
      "text/latex": [
       "$\\displaystyle - 1.0 p_{3} + 1.0 q_{23} - 1.0 q_{24} + 1.0 q_{34} \\leq 0.0$"
      ],
      "text/plain": [
       "-1.0*p3 + 1.0*q23 - 1.0*q24 + 1.0*q34 <= 0.0"
      ]
     },
     "metadata": {},
     "output_type": "display_data"
    },
    {
     "data": {
      "text/latex": [
       "$\\displaystyle - 1.0 p_{4} + 1.0 q_{34} \\leq 0.0$"
      ],
      "text/plain": [
       "-1.0*p4 + 1.0*q34 <= 0.0"
      ]
     },
     "metadata": {},
     "output_type": "display_data"
    },
    {
     "data": {
      "text/latex": [
       "$\\displaystyle 1.0 p_{3} + 1.0 p_{5} - 1.0 q_{35} \\leq 1.0$"
      ],
      "text/plain": [
       "1.0*p3 + 1.0*p5 - 1.0*q35 <= 1.0"
      ]
     },
     "metadata": {},
     "output_type": "display_data"
    },
    {
     "data": {
      "text/latex": [
       "$\\displaystyle - 1.0 p_{2} + 1.0 q_{23} + 1.0 q_{25} - 1.0 q_{35} \\leq 0.0$"
      ],
      "text/plain": [
       "-1.0*p2 + 1.0*q23 + 1.0*q25 - 1.0*q35 <= 0.0"
      ]
     },
     "metadata": {},
     "output_type": "display_data"
    },
    {
     "data": {
      "text/latex": [
       "$\\displaystyle - 1.0 p_{2} + 1.0 q_{23} + 1.0 q_{24} - 1.0 q_{34} \\leq 0.0$"
      ],
      "text/plain": [
       "-1.0*p2 + 1.0*q23 + 1.0*q24 - 1.0*q34 <= 0.0"
      ]
     },
     "metadata": {},
     "output_type": "display_data"
    },
    {
     "data": {
      "text/latex": [
       "$\\displaystyle 1.0 p_{3} + 1.0 p_{4} - 1.0 q_{34} \\leq 1.0$"
      ],
      "text/plain": [
       "1.0*p3 + 1.0*p4 - 1.0*q34 <= 1.0"
      ]
     },
     "metadata": {},
     "output_type": "display_data"
    },
    {
     "data": {
      "text/latex": [
       "$\\displaystyle - 1.0 p_{5} + 1.0 q_{25} \\leq 0.0$"
      ],
      "text/plain": [
       "-1.0*p5 + 1.0*q25 <= 0.0"
      ]
     },
     "metadata": {},
     "output_type": "display_data"
    },
    {
     "data": {
      "text/latex": [
       "$\\displaystyle - 1.0 p_{4} + 1.0 q_{24} \\leq 0.0$"
      ],
      "text/plain": [
       "-1.0*p4 + 1.0*q24 <= 0.0"
      ]
     },
     "metadata": {},
     "output_type": "display_data"
    },
    {
     "data": {
      "text/latex": [
       "$\\displaystyle 1.0 p_{2} + 1.0 p_{5} - 1.0 q_{25} \\leq 1.0$"
      ],
      "text/plain": [
       "1.0*p2 + 1.0*p5 - 1.0*q25 <= 1.0"
      ]
     },
     "metadata": {},
     "output_type": "display_data"
    },
    {
     "data": {
      "text/latex": [
       "$\\displaystyle 1.0 p_{2} + 1.0 p_{4} - 1.0 q_{24} \\leq 1.0$"
      ],
      "text/plain": [
       "1.0*p2 + 1.0*p4 - 1.0*q24 <= 1.0"
      ]
     },
     "metadata": {},
     "output_type": "display_data"
    }
   ],
   "source": [
    "plist = [] #list of symbolic variables to print the facets \n",
    "\n",
    "for i in range(t_nm):\n",
    "    plist.append(sp.symbols(\"p\"+str(i+1)))\n",
    "\n",
    "for i in range(t_cor):\n",
    "    plist.append(sp.symbols(\"q\"+str(cor[i][0])+str(cor[i][1])))\n",
    "\n",
    "plist = np.array(plist)\n",
    "\n",
    "Expr_ineq  = sp.Matrix(np.matmul(A, plist)) \n",
    "\n",
    "for i, j in enumerate(Expr_ineq): #prints the H-representation of the Polytope\n",
    "    expr = j<=b[i]\n",
    "    display(expr)"
   ]
  },
  {
   "attachments": {},
   "cell_type": "markdown",
   "metadata": {},
   "source": [
    "Calculating the Volume Ratio Numerically (for the Symmetric Slice)"
   ]
  },
  {
   "cell_type": "code",
   "execution_count": 14,
   "metadata": {},
   "outputs": [],
   "source": [
    "mrg = np.zeros(t_nm) #stores value of p_i being substituted\n",
    "t1 = np.linspace(0, 1, 101)[1:100] #Stores the list of value of t (p_i = t) for which the ratio is being calculated\n",
    "v = [] #stores volumes of local polytope slice\n",
    "v_ns = [] #stores volumes of the no-signaling slice\n",
    "lb = []  #stores the number of vertices for the V-representation of the slice\n",
    "\n",
    "for t in t1:\n",
    "    c = b.copy()\n",
    "\n",
    "    for k in range(len(mrg)):\n",
    "        mrg[k] = t\n",
    "\n",
    "    for i in range(len(b)):\n",
    "        for j in range(t_nm):\n",
    "            c[i] = c[i]-A[i][j]*mrg[j] #substitutes p_i = t in the Inequalities to get a new b (which we call c)\n",
    "    \n",
    "    A1 = np.delete(A, [0, 1, 2, 3, 4], axis=1) #removes all p_i\n",
    "\n",
    "    c = c.reshape(len(c), 1)\n",
    "    F = np.concatenate((c, -A1), axis = 1) #new H-representation after substitution\n",
    "\n",
    "    mat = cdd.Matrix(F) #H-representation of sliced polytope\n",
    "    mat.rep_type = cdd.RepType.INEQUALITY\n",
    "\n",
    "    poly = cdd.Polyhedron(mat)\n",
    "    #print(poly.get_generators())\n",
    "\n",
    "    extr = np.array(poly.get_generators())[:,1:]\n",
    "    #print(mrg, extr)\n",
    "    \n",
    "    #For Higher Dimensional Objects like this the numerical algorithm may struggle to calculate volume for some values of t and give an error. So we put it in a try-catch block to skip calculation for these values\n",
    "    try:\n",
    "        volume = ConvexHull(extr).volume #Volume calculation\n",
    "    except:\n",
    "        t1 = np.delete(t1, np.where(t1 == t))\n",
    "        continue\n",
    "    \n",
    "    v.append(volume)\n",
    "    v_ns.append(np.prod([t-max(0, 2*t-1) for k in range(t_cor)]))\n",
    "    lb.append(len(extr))"
   ]
  },
  {
   "attachments": {},
   "cell_type": "markdown",
   "metadata": {},
   "source": [
    "Plotting the results"
   ]
  },
  {
   "cell_type": "code",
   "execution_count": 15,
   "metadata": {},
   "outputs": [
    {
     "data": {
      "text/plain": [
       "(0.0, 1.0)"
      ]
     },
     "execution_count": 15,
     "metadata": {},
     "output_type": "execute_result"
    },
    {
     "data": {
      "image/png": "[encoded data removed]",
      "text/plain": [
       "<Figure size 640x480 with 1 Axes>"
      ]
     },
     "metadata": {},
     "output_type": "display_data"
    }
   ],
   "source": [
    "fig, ax = plt.subplots()\n",
    "\n",
    "ax.plot(t1, np.array(v)/np.array(v_ns), c = \"red\")\n",
    "ax.set_xlabel(\"t\")\n",
    "ax.set_ylabel(\"$vol(L(G_t))/vol(N(G_t))$\")\n",
    "ax.set_xlim([0, 1])"
   ]
  },
  {
   "attachments": {},
   "cell_type": "markdown",
   "metadata": {},
   "source": [
    "Saving the V-representation of the Sliced Polytopes in a file to be loaded in Julia "
   ]
  },
  {
   "cell_type": "code",
   "execution_count": 16,
   "metadata": {},
   "outputs": [
    {
     "name": "stdout",
     "output_type": "stream",
     "text": [
      "[[1. 1. 0. 0. 0. 0. 1. 1.]\n",
      " [1. 1. 0. 0. 1. 0. 0. 1.]\n",
      " [1. 1. 1. 0. 1. 0. 0. 0.]\n",
      " [1. 1. 1. 0. 0. 0. 1. 0.]\n",
      " [1. 0. 1. 1. 0. 0. 1. 0.]\n",
      " [1. 0. 1. 1. 1. 0. 0. 0.]\n",
      " [1. 0. 0. 1. 1. 0. 0. 1.]\n",
      " [1. 1. 0. 1. 0. 1. 0. 0.]\n",
      " [1. 0. 0. 0. 0. 1. 0. 0.]\n",
      " [1. 0. 0. 0. 1. 1. 1. 0.]\n",
      " [1. 1. 0. 1. 1. 1. 1. 0.]\n",
      " [1. 1. 1. 1. 0. 1. 0. 1.]\n",
      " [1. 0. 1. 0. 0. 1. 0. 1.]\n",
      " [1. 0. 0. 1. 0. 0. 1. 1.]\n",
      " [1. 0. 1. 0. 1. 1. 1. 1.]\n",
      " [1. 1. 1. 1. 1. 1. 1. 1.]]\n"
     ]
    }
   ],
   "source": [
    "mrg = np.zeros(t_nm) #stores value of p_i being substituted\n",
    "t = 0.5 #value of t for which volume ratio needs to be calculated\n",
    "v = [] #stores volumes of local polytope slice\n",
    "v_ns = [] #stores volumes of the no-signaling slice\n",
    "lb = []  #stores the number of vertices for the V-representation of the slice\n",
    "\n",
    "\n",
    "c = b.copy()\n",
    "\n",
    "for k in range(len(mrg)):\n",
    "    mrg[k] = t\n",
    "\n",
    "for i in range(len(b)):\n",
    "    for j in range(t_nm):\n",
    "        c[i] = c[i]-A[i][j]*mrg[j] #substitutes p_i = t in the Inequalities to get a new b (which we call c)\n",
    "\n",
    "A1 = np.delete(A, [0, 1, 2, 3, 4], axis=1) #removes all p_i\n",
    "\n",
    "c = c.reshape(len(c), 1)\n",
    "F = np.concatenate((c, -A1), axis = 1) #new H-representation after substitution\n",
    "#print(F)\n",
    "\n",
    "mat = cdd.Matrix(F) #H-representation of sliced polytope\n",
    "mat.rep_type = cdd.RepType.INEQUALITY\n",
    "\n",
    "poly = cdd.Polyhedron(mat)\n",
    "\n",
    "extr = np.array(poly.get_generators()) #getting the H-representation\n",
    "\n",
    "extr[:, 1:] = extr[:, 1:]/t #equivalent to setting volume of no-signalling slice to 1\n",
    "print(extr)\n",
    "np.savetxt(\"K3U2K1.txt\", extr)"
   ]
  }
 ],
 "metadata": {
  "kernelspec": {
   "display_name": "Python 3",
   "language": "python",
   "name": "python3"
  },
  "language_info": {
   "codemirror_mode": {
    "name": "ipython",
    "version": 3
   },
   "file_extension": ".py",
   "mimetype": "text/x-python",
   "name": "python",
   "nbconvert_exporter": "python",
   "pygments_lexer": "ipython3",
   "version": "3.8.10"
  }
 },
 "nbformat": 4,
 "nbformat_minor": 2
}
