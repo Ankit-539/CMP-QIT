{
 "cells": [
  {
   "cell_type": "markdown",
   "metadata": {},
   "source": [
    "Importing all the Libraries"
   ]
  },
  {
   "cell_type": "code",
   "execution_count": 35,
   "metadata": {},
   "outputs": [],
   "source": [
    "import sympy as sp\n",
    "import numpy as np\n",
    "import cdd\n",
    "from IPython.display import display\n",
    "import matplotlib.pyplot as plt\n",
    "from scipy.spatial import ConvexHull\n",
    "import networkx as nx"
   ]
  },
  {
   "cell_type": "markdown",
   "metadata": {},
   "source": [
    "Plotting the Triangle Graph"
   ]
  },
  {
   "cell_type": "code",
   "execution_count": 36,
   "metadata": {},
   "outputs": [
    {
     "name": "stdout",
     "output_type": "stream",
     "text": [
      "(2, <networkx.classes.graph.Graph object at 0x0000024264AF3EB0>)\n"
     ]
    },
    {
     "data": {
      "image/png": "[encoded data removed]",
      "text/plain": [
       "<Figure size 432x288 with 1 Axes>"
      ]
     },
     "metadata": {},
     "output_type": "display_data"
    }
   ],
   "source": [
    "G = nx.Graph()\n",
    "G.add_nodes_from([1, 2, 3])\n",
    "G.add_weighted_edges_from([[1, 2, 3], [2, 3, 3], [1, 3, 100]])\n",
    "pos = nx.spring_layout(G, seed=225)\n",
    "print(nx.algorithms.approximation.treewidth_min_degree(G))\n",
    "nx.draw(G, pos)"
   ]
  },
  {
   "cell_type": "markdown",
   "metadata": {},
   "source": [
    "Creating the Truth Table to extract V-Representation of Correlation Polytope"
   ]
  },
  {
   "cell_type": "code",
   "execution_count": 37,
   "metadata": {},
   "outputs": [
    {
     "data": {
      "text/plain": [
       "array([[0., 0., 0., 0., 0., 0.],\n",
       "       [0., 0., 1., 0., 0., 0.],\n",
       "       [0., 1., 0., 0., 0., 0.],\n",
       "       [0., 1., 1., 0., 1., 0.],\n",
       "       [1., 0., 0., 0., 0., 0.],\n",
       "       [1., 0., 1., 0., 0., 1.],\n",
       "       [1., 1., 0., 1., 0., 0.],\n",
       "       [1., 1., 1., 1., 1., 1.]])"
      ]
     },
     "execution_count": 37,
     "metadata": {},
     "output_type": "execute_result"
    }
   ],
   "source": [
    "t_nm = 3 #No. of Vertices for our graph\n",
    "cor = np.array([[1, 2], [2, 3], [1, 3]]) #list of edges for the graph\n",
    "\n",
    "def dec_to_bin(num): #converts decimal number to its binary (used for making the truth table)\n",
    "\n",
    "    s = ''\n",
    "    for i in range(t_nm):\n",
    "\n",
    "        s = str(num%2)+s\n",
    "        num = int(num/2)\n",
    "    \n",
    "    return s\n",
    "\n",
    "A = np.zeros([2**(t_nm), t_nm]) #stores the atomic parts of the truth table\n",
    "\n",
    "for i in range(2**t_nm):\n",
    "\n",
    "    bin = dec_to_bin(i)\n",
    "    for j in range(t_nm):\n",
    "\n",
    "        A[i][j] = bin[j]\n",
    "\n",
    "t_cor = len(cor) #No. of edges in the graph\n",
    "B = np.zeros([2**t_nm, t_cor]) #stores the conjugation parts of the truth table\n",
    "\n",
    "for j in range(2**t_nm):\n",
    "    for i, c in enumerate(cor):\n",
    "        B[j][i] = A[j][c[0]-1]*A[j][c[1]-1]\n",
    "\n",
    "F = np.concatenate((A, B), axis = 1) #stores the complete truth table\n",
    "F"
   ]
  },
  {
   "cell_type": "markdown",
   "metadata": {},
   "source": [
    "Getting the H representation from the V-representation using cdd"
   ]
  },
  {
   "cell_type": "code",
   "execution_count": 38,
   "metadata": {},
   "outputs": [],
   "source": [
    "F = np.insert(F, 0, 1, axis = 1)\n",
    "mat = cdd.Matrix(F) #V-representation of correlation polytope\n",
    "\n",
    "mat.rep_type = cdd.RepType.GENERATOR\n",
    "\n",
    "poly = cdd.Polyhedron(mat)\n",
    "\n",
    "Ineq = np.array(poly.get_inequalities()) #Stores H-representation of the correlation polytope\n",
    "\n",
    "#Next we extract A and b such that the polytope can be written as S=(x|Ax≤b)\n",
    "b = Ineq[:, 0]\n",
    "A = -1*Ineq[:, 1:]"
   ]
  },
  {
   "cell_type": "markdown",
   "metadata": {},
   "source": [
    "Printing out the H-representation"
   ]
  },
  {
   "cell_type": "code",
   "execution_count": 39,
   "metadata": {},
   "outputs": [
    {
     "data": {
      "text/latex": [
       "$\\displaystyle - 1.0 q_{13} \\leq 0.0$"
      ],
      "text/plain": [
       "-1.0*q13 <= 0.0"
      ]
     },
     "metadata": {},
     "output_type": "display_data"
    },
    {
     "data": {
      "text/latex": [
       "$\\displaystyle - 1.0 q_{23} \\leq 0.0$"
      ],
      "text/plain": [
       "-1.0*q23 <= 0.0"
      ]
     },
     "metadata": {},
     "output_type": "display_data"
    },
    {
     "data": {
      "text/latex": [
       "$\\displaystyle - 1.0 q_{12} \\leq 0.0$"
      ],
      "text/plain": [
       "-1.0*q12 <= 0.0"
      ]
     },
     "metadata": {},
     "output_type": "display_data"
    },
    {
     "data": {
      "text/latex": [
       "$\\displaystyle 1.0 p_{1} + 1.0 p_{2} + 1.0 p_{3} - 1.0 q_{12} - 1.0 q_{13} - 1.0 q_{23} \\leq 1.0$"
      ],
      "text/plain": [
       "1.0*p1 + 1.0*p2 + 1.0*p3 - 1.0*q12 - 1.0*q13 - 1.0*q23 <= 1.0"
      ]
     },
     "metadata": {},
     "output_type": "display_data"
    },
    {
     "data": {
      "text/latex": [
       "$\\displaystyle 1.0 p_{2} + 1.0 p_{3} - 1.0 q_{23} \\leq 1.0$"
      ],
      "text/plain": [
       "1.0*p2 + 1.0*p3 - 1.0*q23 <= 1.0"
      ]
     },
     "metadata": {},
     "output_type": "display_data"
    },
    {
     "data": {
      "text/latex": [
       "$\\displaystyle 1.0 p_{1} + 1.0 p_{3} - 1.0 q_{13} \\leq 1.0$"
      ],
      "text/plain": [
       "1.0*p1 + 1.0*p3 - 1.0*q13 <= 1.0"
      ]
     },
     "metadata": {},
     "output_type": "display_data"
    },
    {
     "data": {
      "text/latex": [
       "$\\displaystyle 1.0 p_{1} + 1.0 p_{2} - 1.0 q_{12} \\leq 1.0$"
      ],
      "text/plain": [
       "1.0*p1 + 1.0*p2 - 1.0*q12 <= 1.0"
      ]
     },
     "metadata": {},
     "output_type": "display_data"
    },
    {
     "data": {
      "text/latex": [
       "$\\displaystyle - 1.0 p_{1} + 1.0 q_{13} \\leq 0.0$"
      ],
      "text/plain": [
       "-1.0*p1 + 1.0*q13 <= 0.0"
      ]
     },
     "metadata": {},
     "output_type": "display_data"
    },
    {
     "data": {
      "text/latex": [
       "$\\displaystyle - 1.0 p_{1} + 1.0 q_{12} + 1.0 q_{13} - 1.0 q_{23} \\leq 0.0$"
      ],
      "text/plain": [
       "-1.0*p1 + 1.0*q12 + 1.0*q13 - 1.0*q23 <= 0.0"
      ]
     },
     "metadata": {},
     "output_type": "display_data"
    },
    {
     "data": {
      "text/latex": [
       "$\\displaystyle - 1.0 p_{1} + 1.0 q_{12} \\leq 0.0$"
      ],
      "text/plain": [
       "-1.0*p1 + 1.0*q12 <= 0.0"
      ]
     },
     "metadata": {},
     "output_type": "display_data"
    },
    {
     "data": {
      "text/latex": [
       "$\\displaystyle - 1.0 p_{2} + 1.0 q_{23} \\leq 0.0$"
      ],
      "text/plain": [
       "-1.0*p2 + 1.0*q23 <= 0.0"
      ]
     },
     "metadata": {},
     "output_type": "display_data"
    },
    {
     "data": {
      "text/latex": [
       "$\\displaystyle - 1.0 p_{2} + 1.0 q_{12} \\leq 0.0$"
      ],
      "text/plain": [
       "-1.0*p2 + 1.0*q12 <= 0.0"
      ]
     },
     "metadata": {},
     "output_type": "display_data"
    },
    {
     "data": {
      "text/latex": [
       "$\\displaystyle - 1.0 p_{2} + 1.0 q_{12} - 1.0 q_{13} + 1.0 q_{23} \\leq 0.0$"
      ],
      "text/plain": [
       "-1.0*p2 + 1.0*q12 - 1.0*q13 + 1.0*q23 <= 0.0"
      ]
     },
     "metadata": {},
     "output_type": "display_data"
    },
    {
     "data": {
      "text/latex": [
       "$\\displaystyle - 1.0 p_{3} - 1.0 q_{12} + 1.0 q_{13} + 1.0 q_{23} \\leq 0.0$"
      ],
      "text/plain": [
       "-1.0*p3 - 1.0*q12 + 1.0*q13 + 1.0*q23 <= 0.0"
      ]
     },
     "metadata": {},
     "output_type": "display_data"
    },
    {
     "data": {
      "text/latex": [
       "$\\displaystyle - 1.0 p_{3} + 1.0 q_{13} \\leq 0.0$"
      ],
      "text/plain": [
       "-1.0*p3 + 1.0*q13 <= 0.0"
      ]
     },
     "metadata": {},
     "output_type": "display_data"
    },
    {
     "data": {
      "text/latex": [
       "$\\displaystyle - 1.0 p_{3} + 1.0 q_{23} \\leq 0.0$"
      ],
      "text/plain": [
       "-1.0*p3 + 1.0*q23 <= 0.0"
      ]
     },
     "metadata": {},
     "output_type": "display_data"
    }
   ],
   "source": [
    "plist = [] #list of symbolic variables to print the facets \n",
    "\n",
    "for i in range(t_nm):\n",
    "    plist.append(sp.symbols(\"p\"+str(i+1)))\n",
    "\n",
    "for i in range(t_cor):\n",
    "    plist.append(sp.symbols(\"q\"+str(cor[i][0])+str(cor[i][1])))\n",
    "\n",
    "plist = np.array(plist)\n",
    "\n",
    "Expr_ineq = sp.Matrix(np.matmul(A, plist)) \n",
    "\n",
    "for i, j in enumerate(Expr_ineq): #prints the H-representation of the Polytope\n",
    "    expr = j<=b[i]\n",
    "    display(expr)"
   ]
  },
  {
   "cell_type": "markdown",
   "metadata": {},
   "source": [
    "Calculating the Volume Ratio Numerically (for the Symmetric Slice)"
   ]
  },
  {
   "cell_type": "code",
   "execution_count": 40,
   "metadata": {},
   "outputs": [],
   "source": [
    "mrg = np.zeros(t_nm) #stores value of p_i being substituted\n",
    "t1 = np.linspace(0, 1, 101)[1:100] #Stores the list of value of t (p_i = t) for which the ratio is being calculated\n",
    "\n",
    "v = [] #stores volumes of local polytope slice\n",
    "v_ns = [] #stores volumes of the no-signaling slice\n",
    "lb = [] #stores the number of vertices for the V-representation of the slice\n",
    "\n",
    "for t in t1:\n",
    "    c = b.copy()\n",
    "\n",
    "    for k in range(len(mrg)):\n",
    "        mrg[k] = t\n",
    "\n",
    "    for i in range(len(b)):\n",
    "        for j in range(t_nm):\n",
    "            c[i] = c[i]-A[i][j]*mrg[j] #substitutes p_i = t in the Inequalities to get a new b (which we call c)\n",
    "    \n",
    "    A1 = np.delete(A, [0, 1, 2], axis=1) #removes all p_i\n",
    "\n",
    "    c = c.reshape(len(c), 1)\n",
    "    F = np.concatenate((c, -A1), axis = 1) #new H-representation after substitution\n",
    "\n",
    "    mat = cdd.Matrix(F) #H-representation of sliced polytope\n",
    "    mat.rep_type = cdd.RepType.INEQUALITY\n",
    "\n",
    "    poly = cdd.Polyhedron(mat)\n",
    "    #print(poly.get_generators())\n",
    "\n",
    "    extr = np.array(poly.get_generators())[:,1:] #Stores the V-representation of the sliced local polytope\n",
    "    #print(mrg, extr)\n",
    "    volume = ConvexHull(extr).volume #Volume calculation\n",
    "    v.append(volume)\n",
    "    v_ns.append(np.prod([mrg[k]-max(0, 2*mrg[k]-1) for k in range(t_nm)]))\n",
    "    lb.append(len(extr))"
   ]
  },
  {
   "cell_type": "markdown",
   "metadata": {},
   "source": [
    "Calculating volume ratio through the Analytical Expressions derived in Paper (for the Symmetric Slice)"
   ]
  },
  {
   "cell_type": "code",
   "execution_count": 41,
   "metadata": {},
   "outputs": [],
   "source": [
    "t0 = np.linspace(0, 0.33, 10)\n",
    "v0 = np.array([0.5 for t in t0])\n",
    "\n",
    "t2 = np.linspace(0.33, 0.5, 100)\n",
    "v2 = np.array([0.5-((3-1/t)**3)/6 for t in t2])\n",
    "\n",
    "t3 = np.linspace(0.5, 0.67, 100)\n",
    "v3 = np.array([0.5-((3-1/(1-t))**3)/6 for t in t3])\n",
    "\n",
    "t4 = np.linspace(0.67, 1, 10)\n",
    "v4 = np.array([0.5 for t in t4])\n",
    "\n",
    "tf = np.concatenate((t0, t2, t3, t4))\n",
    "vf = np.concatenate((v0, v2, v3, v4))"
   ]
  },
  {
   "cell_type": "markdown",
   "metadata": {},
   "source": [
    "Plotting the results (for the Symmetric Slice)"
   ]
  },
  {
   "cell_type": "code",
   "execution_count": 42,
   "metadata": {},
   "outputs": [
    {
     "data": {
      "image/png": "[encoded data removed]",
      "text/plain": [
       "<Figure size 432x288 with 1 Axes>"
      ]
     },
     "metadata": {
      "needs_background": "light"
     },
     "output_type": "display_data"
    }
   ],
   "source": [
    "plt.plot(tf, vf, c=\"red\", lw = 2)\n",
    "plt.plot(t1, np.array(v)/np.array(v_ns), c = \"black\", ls = \"--\")\n",
    "plt.legend([\"Analytical result\", \"Numerical result\"])\n",
    "plt.title(\"volume ratio as a function of $t$\")\n",
    "plt.xlabel(\"t\")\n",
    "plt.ylabel(\"$vol(\\~L_t)$\")\n",
    "plt.xlim([0, 1])\n",
    "plt.tight_layout()\n",
    "#plt.savefig(\"plot-K3-sym-vol.png\", dpi = 200)"
   ]
  },
  {
   "cell_type": "markdown",
   "metadata": {},
   "source": [
    "Calculating the Volume Ratio Numerically (for the Skewed Slice)"
   ]
  },
  {
   "cell_type": "code",
   "execution_count": 43,
   "metadata": {},
   "outputs": [],
   "source": [
    "mrg = np.zeros(t_nm)\n",
    "t1 = np.linspace(0, 0.5, 101)[1:100]\n",
    "v = []\n",
    "v_ns = []\n",
    "lb = []\n",
    "\n",
    "for t in t1:\n",
    "    c = b.copy()\n",
    "\n",
    "    mrg = [t, t, 0.5-t]\n",
    "\n",
    "    for i in range(len(b)):\n",
    "        for j in range(t_nm):\n",
    "            c[i] = c[i]-A[i][j]*mrg[j]\n",
    "    \n",
    "    A1 = np.delete(A, [0, 1, 2], axis=1)\n",
    "\n",
    "    c = c.reshape(len(c), 1)\n",
    "    F = np.concatenate((c, -A1), axis = 1)\n",
    "\n",
    "    mat = cdd.Matrix(F)\n",
    "    mat.rep_type = cdd.RepType.INEQUALITY\n",
    "\n",
    "    poly = cdd.Polyhedron(mat)\n",
    "    #print(poly.get_generators())\n",
    "\n",
    "    extr = np.array(poly.get_generators())[:,1:]\n",
    "    #print(mrg, extr)\n",
    "    volume = ConvexHull(extr).volume\n",
    "    v.append(volume)\n",
    "    v_ns.append(t*min(t, 0.5-t)**2)\n",
    "    lb.append(len(extr))"
   ]
  },
  {
   "cell_type": "markdown",
   "metadata": {},
   "source": [
    "Calculating volume ratio through the Analytical Expressions derived in Paper (for the Skewed Slice)"
   ]
  },
  {
   "cell_type": "code",
   "execution_count": 44,
   "metadata": {},
   "outputs": [],
   "source": [
    "x1 = np.linspace(0, 1/6.0, 10)\n",
    "y1 = 2/3.0*np.ones(10)\n",
    "x2 = np.linspace(1/6.0+0.001, 1/4.0, 100)\n",
    "y2 = np.array([2/3.0-((3-1/(2*x2))**3)/6 for x2 in x2])\n",
    "x3 = np.linspace(1/4.0, 1/2.0, 100)\n",
    "y3 = np.array([1-3*(1/(2*x3)-1)/6 for x3 in x3])\n",
    "\n",
    "xf = np.concatenate((x1, x2, x3))\n",
    "yf = np.concatenate((y1, y2, y3))"
   ]
  },
  {
   "cell_type": "markdown",
   "metadata": {},
   "source": [
    "Plotting the results (for the Skewed Slice)"
   ]
  },
  {
   "cell_type": "code",
   "execution_count": 45,
   "metadata": {},
   "outputs": [
    {
     "data": {
      "image/png": "[encoded data removed]",
      "text/plain": [
       "<Figure size 432x288 with 1 Axes>"
      ]
     },
     "metadata": {
      "needs_background": "light"
     },
     "output_type": "display_data"
    }
   ],
   "source": [
    "plt.plot(xf, yf, c = \"red\", lw = 2)\n",
    "plt.plot(t1, np.array(v)/np.array(v_ns) , c = \"black\", ls = \"--\")\n",
    "plt.legend([\"Analytical result\", \"Numerical result\"])\n",
    "plt.title(\"volume ratio as a function of $t$\")\n",
    "plt.xlabel(\"t\")\n",
    "plt.ylabel(\"$vol(\\~L_t)$\")\n",
    "plt.xlim([0, 0.5])\n",
    "plt.tight_layout()\n",
    "plt.savefig(\"plot-K3-skew-vol.png\", dpi = 200)"
   ]
  }
 ],
 "metadata": {
  "kernelspec": {
   "display_name": "Python 3",
   "language": "python",
   "name": "python3"
  },
  "language_info": {
   "codemirror_mode": {
    "name": "ipython",
    "version": 3
   },
   "file_extension": ".py",
   "mimetype": "text/x-python",
   "name": "python",
   "nbconvert_exporter": "python",
   "pygments_lexer": "ipython3",
   "version": "3.10.2"
  }
 },
 "nbformat": 4,
 "nbformat_minor": 2
}
